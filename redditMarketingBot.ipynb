{
  "nbformat": 4,
  "nbformat_minor": 0,
  "metadata": {
    "colab": {
      "provenance": []
    },
    "kernelspec": {
      "name": "python3",
      "display_name": "Python 3"
    },
    "language_info": {
      "name": "python"
    }
  },
  "cells": [
    {
      "cell_type": "markdown",
      "source": [
        "Add as many accounts as you want in the dict format within the square brackets. Add as many keywords, links and subreddits as you want, all comma separated within the square brackets. \n",
        "\n",
        "If you're running it on colab, be sure to run the 2nd cell. If you're pulling the code down to run on your local machine, get rid of that cell. \n",
        "\n",
        "Every time a match of any of the keywords is found on the title or the text, you get a prompt asking you if you want to generate a response. \n",
        "\n",
        "Once you have the response you get to review it before posting it. \n",
        "\n",
        "You can post comments from different accounts if you have multiple accounts in there. \n",
        "\n"
      ],
      "metadata": {
        "id": "Q_asYWZBSBc4"
      }
    },
    {
      "cell_type": "code",
      "source": [
        "keyholder = [{'openai_key':'',\n",
        "              'reddit_username':'',\n",
        "              'reddit_password':'',\n",
        "              'reddit_clientID':'',\n",
        "              'reddit_clientSecret':''\n",
        "}]\n",
        "keywords = ['boobs','pussy']\n",
        "links = ['http://domain.com/']\n",
        "subReddits = ['siemreap']"
      ],
      "metadata": {
        "id": "r_RyyqaZR4Ln"
      },
      "execution_count": null,
      "outputs": []
    },
    {
      "cell_type": "code",
      "execution_count": null,
      "metadata": {
        "id": "kMt7mLd0FAuu"
      },
      "outputs": [],
      "source": [
        "!pip install praw openai"
      ]
    },
    {
      "cell_type": "code",
      "source": [
        "import openai, praw\n",
        "from sys import exit as eX \n",
        "from time import sleep as zZz\n",
        "from random import choice as c\n",
        "def chatGPT(messages):\n",
        "  openai.api_key = keyh0lder[0]['openai_key']\n",
        "  retry = 0\n",
        "  t = 10\n",
        "  while True:\n",
        "    try:\n",
        "      return openai.ChatCompletion.create(model=\"gpt-3.5-turbo\", messages=messages )['choices'][0]['message']['content']\n",
        "    except Exception as e:\n",
        "      retry +=1\n",
        "      print(f'OpenAI threw an error {e}, sleeping for {t} seconds. Retry {retry} of 5')\n",
        "      if retry == 5:\n",
        "        eX(f'Looks like openAI is fucked. See you on the otherside')\n",
        "      else:\n",
        "        zZz(t)\n",
        "        t += 10\n",
        "        continue\n",
        "\n",
        "def reDDitCommentPoster(submission, msg):\n",
        "  chatResponse = chatGPT(msg)\n",
        "  if input(f'For question in title \\n{submission.title}\\n ChatGPT response is \\n\\n{chatResponse}\\n\\nProceed to post as comment? (y/N) : ').lower() == 'y':\n",
        "    keyh0lder=c(keyholder)\n",
        "    reddit = praw.Reddit(username=keyh0lder['reddit_username'], password=keyh0lder['reddit_password'], client_id=keyh0lder['reddit_clientID'], client_secret=keyh0lder['reddit_clientSecret'], user_agent=\"postConsolidator_1.0\")\n",
        "    print(f'Posted comment to {submission.title} as user {reddit.user.me().name}\\nClick here to view it. {submission.reply(chatResponse).permalink}')\n",
        "  \n",
        "def reDDit(subReddit):\n",
        "  keyh0lder=c(keyholder)\n",
        "  reddit = praw.Reddit(username=keyh0lder['reddit_username'], password=keyh0lder['reddit_password'], client_id=keyh0lder['reddit_clientID'], client_secret=keyh0lder['reddit_clientSecret'], user_agent=\"postConsolidator_1.0\")\n",
        "  subreddit = reddit.subreddit(subReddit)\n",
        "  for submission in subreddit.new():\n",
        "    kwCount = 0\n",
        "    if submission.title.strip().endswith('?'):\n",
        "      for kw in keywords:\n",
        "        kwtextcount = submission.selftext.count(kw)\n",
        "        kwtitlecount = submission.title.count(kw)\n",
        "        if kwtextcount > 0:\n",
        "          print(f'{kw} occurs {kwtextcount} times in text')\n",
        "          kwCount += kwtextcount\n",
        "        if kwtitlecount > 0:\n",
        "          print(f'{kw} occurs {kwtitlecount} in title')\n",
        "          kwCount += kwtextcount\n",
        "      if kwCount > 0:\n",
        "        if input(f\"There is a total of {kwCount} occurence of at least one of {len(keywords)}.\\n\\n Title:{submission.title}\\n\\nText:\\n{submission.selftext} Make a post? : (Y/n)\").lower() == 'y':\n",
        "          reDDitCommentPoster(submission=submission, msg = [{\"role\": \"system\", \"content\": f\"You are an unhelpful sarcastic old man. Keep your responses short and to the point and don't mention anything about various factors. Add the link somewhere in the middle of your response your response : {c(links)}\"},\n",
        "        {'role':'user', 'content':submission.title.strip()}])\n",
        "      else:\n",
        "        if input(f'None of the keywords were found for {submission.title}. Would you like to make a Karmic Post? y/N : ').lower() == 'y':\n",
        "          reDDitCommentPoster(submission=submission, msg = [{\"role\": \"system\", \"content\": f\"You are an overly enthusiastic helpful assistant. Keep your responses short and to the point and don't mention anything about various factors. Add the link somewhere in the middle of your response your response : {c(links)}\"},\n",
        "        {'role':'user', 'content':submission.title.strip()}])\n",
        "    else:\n",
        "      for kw in keywords:\n",
        "        kwtextcount = submission.selftext.count(kw)\n",
        "        kwtitlecount = submission.title.count(kw)\n",
        "        if kwtextcount > 0:\n",
        "          print(f'{kw} occurs {kwtextcount} times in text')\n",
        "          kwCount += kwtextcount\n",
        "        if kwtitlecount > 0:\n",
        "          print(f'{kw} occurs {kwtitlecount} in title')\n",
        "          kwCount += kwtextcount\n",
        "      if kwCount > 0:\n",
        "        if input(f\"There is a total of {kwCount} occurence of at least one of {len(keywords)}.\\n\\n Title:{submission.title}\\n\\nText:\\n{submission.selftext} Make a post? : (Y/n)\").lower() == 'y':\n",
        "          reDDitCommentPoster(submission=submission, msg = [{\"role\": \"system\", \"content\": f\"You are an unhelpful sarcastic old man. Keep your responses short and to the point and don't mention anything about various factors. Add the link somewhere in the middle of your response your response : {c(links)}\"},\n",
        "        {'role':'user', 'content':submission.title.strip()}])"
      ],
      "metadata": {
        "id": "wKKux5DxF5yf"
      },
      "execution_count": null,
      "outputs": []
    },
    {
      "cell_type": "code",
      "source": [
        "for sub in subReddits:\n",
        "    reDDit(subReddit=sub)"
      ],
      "metadata": {
        "id": "juC73KKbxI3k"
      },
      "execution_count": null,
      "outputs": []
    }
  ]
}